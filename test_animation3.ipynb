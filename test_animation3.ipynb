{
 "cells": [
  {
   "cell_type": "code",
   "execution_count": 1,
   "metadata": {
    "collapsed": true
   },
   "outputs": [],
   "source": [
    "import math\n",
    "import matplotlib.pyplot as plt\n",
    "import matplotlib.animation as animation"
   ]
  },
  {
   "cell_type": "code",
   "execution_count": 2,
   "metadata": {
    "collapsed": true
   },
   "outputs": [],
   "source": [
    "import sys\n",
    "sys.path.append(\"./src/\")\n",
    "import Agent\n",
    "import Field"
   ]
  },
  {
   "cell_type": "code",
   "execution_count": 7,
   "metadata": {
    "collapsed": false
   },
   "outputs": [
    {
     "data": {
      "text/plain": [
       "<Agent.Agent at 0x10c8c4b38>"
      ]
     },
     "execution_count": 7,
     "metadata": {},
     "output_type": "execute_result"
    }
   ],
   "source": [
    "field = Field.Field(width=11, height=11)\n",
    "agent1 = Agent.Agent(id=1, x=4, y=4, dx=1, dy=0)\n",
    "agent2 = Agent.Agent(id=-1, x=7, y=4, dx=-1, dy=0)\n",
    "field.add_agent(agent1)\n",
    "field.add_agent(agent2)"
   ]
  },
  {
   "cell_type": "code",
   "execution_count": 8,
   "metadata": {
    "collapsed": true
   },
   "outputs": [],
   "source": [
    "plt.imshow(field.get_field(), interpolation=\"nearest\")\n",
    "plt.show()"
   ]
  },
  {
   "cell_type": "code",
   "execution_count": 9,
   "metadata": {
    "collapsed": true
   },
   "outputs": [],
   "source": [
    "# 更新する内容\n",
    "def _update_plot(i, fig, im):\n",
    "    field.step()\n",
    "    \n",
    "    # 前回のフレーム内容を一旦削除\n",
    "    if len(im) > 0:\n",
    "        im[0].remove()\n",
    "        im.pop()\n",
    "\n",
    "    im.append(plt.imshow(field.get_field(), interpolation='nearest'))\n",
    "\n",
    "fig =  plt.figure()\n",
    "\n",
    "# グラフを中央に表示\n",
    "ax = fig.add_subplot(1,1,1)\n",
    "\n",
    "im = [] # フレーム更新の際に前回のプロットを削除するために用意\n",
    "\n",
    "# アニメーション作成\n",
    "ani = animation.FuncAnimation(fig, _update_plot, fargs = (fig, im), \n",
    "        frames = 360, interval = 500) \n",
    "\n",
    "# 表示\n",
    "plt.show()"
   ]
  },
  {
   "cell_type": "code",
   "execution_count": 20,
   "metadata": {
    "collapsed": false
   },
   "outputs": [
    {
     "data": {
      "text/plain": [
       "60"
      ]
     },
     "execution_count": 20,
     "metadata": {},
     "output_type": "execute_result"
    }
   ],
   "source": [
    "field = Field.Field(width=11, height=11)\n",
    "agent1 = Agent.Agent(id=1, x=4, y=4, dx=1, dy=0)\n",
    "agent2 = Agent.Agent(id=-1, x=7, y=4, dx=-1, dy=0)\n",
    "field.add_agents([agent1, agent2], [30, 30])"
   ]
  },
  {
   "cell_type": "code",
   "execution_count": 21,
   "metadata": {
    "collapsed": true
   },
   "outputs": [],
   "source": [
    "# 更新する内容\n",
    "def _update_plot(i, fig, im):\n",
    "    field.step()\n",
    "    \n",
    "    # 前回のフレーム内容を一旦削除\n",
    "    if len(im) > 0:\n",
    "        im[0].remove()\n",
    "        im.pop()\n",
    "\n",
    "    im.append(plt.imshow(field.get_field(), interpolation='nearest'))\n",
    "\n",
    "fig =  plt.figure()\n",
    "\n",
    "# グラフを中央に表示\n",
    "ax = fig.add_subplot(1,1,1)\n",
    "\n",
    "im = [] # フレーム更新の際に前回のプロットを削除するために用意\n",
    "\n",
    "# アニメーション作成\n",
    "ani = animation.FuncAnimation(fig, _update_plot, fargs = (fig, im), \n",
    "        frames = 360, interval = 100) \n",
    "\n",
    "# 表示\n",
    "plt.show()"
   ]
  },
  {
   "cell_type": "code",
   "execution_count": 34,
   "metadata": {
    "collapsed": false
   },
   "outputs": [
    {
     "data": {
      "text/plain": [
       "4000"
      ]
     },
     "execution_count": 34,
     "metadata": {},
     "output_type": "execute_result"
    }
   ],
   "source": [
    "field = Field.Field(width=200)\n",
    "agent1 = Agent.Agent(id=1, x=4, y=4, dx=1, dy=0)\n",
    "agent2 = Agent.Agent(id=-1, x=7, y=4, dx=-1, dy=0)\n",
    "field.add_agents([agent1, agent2], [2000, 2000])"
   ]
  },
  {
   "cell_type": "code",
   "execution_count": 35,
   "metadata": {
    "collapsed": true
   },
   "outputs": [],
   "source": [
    "# 更新する内容\n",
    "def _update_plot(i, fig, im):\n",
    "    field.step()\n",
    "    \n",
    "    # 前回のフレーム内容を一旦削除\n",
    "    if len(im) > 0:\n",
    "        im[0].remove()\n",
    "        im.pop()\n",
    "\n",
    "    im.append(plt.imshow(field.get_field(), interpolation='nearest'))\n",
    "\n",
    "fig =  plt.figure()\n",
    "\n",
    "# グラフを中央に表示\n",
    "ax = fig.add_subplot(1,1,1)\n",
    "\n",
    "im = [] # フレーム更新の際に前回のプロットを削除するために用意\n",
    "\n",
    "# アニメーション作成\n",
    "ani = animation.FuncAnimation(fig, _update_plot, fargs = (fig, im), \n",
    "        frames = 360, interval = 10) \n",
    "\n",
    "# 表示\n",
    "plt.show()"
   ]
  },
  {
   "cell_type": "code",
   "execution_count": null,
   "metadata": {
    "collapsed": true
   },
   "outputs": [],
   "source": []
  }
 ],
 "metadata": {
  "kernelspec": {
   "display_name": "Python 3",
   "language": "python",
   "name": "python3"
  },
  "language_info": {
   "codemirror_mode": {
    "name": "ipython",
    "version": 3
   },
   "file_extension": ".py",
   "mimetype": "text/x-python",
   "name": "python",
   "nbconvert_exporter": "python",
   "pygments_lexer": "ipython3",
   "version": "3.5.1"
  }
 },
 "nbformat": 4,
 "nbformat_minor": 0
}
