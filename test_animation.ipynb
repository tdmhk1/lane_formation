{
 "cells": [
  {
   "cell_type": "code",
   "execution_count": 1,
   "metadata": {
    "collapsed": true
   },
   "outputs": [],
   "source": [
    "import math\n",
    "import matplotlib.pyplot as plt\n",
    "import matplotlib.animation as animation\n",
    "\n",
    "# 更新する内容\n",
    "def _update_plot(i, fig, im):\n",
    "    rad = math.radians(i)\n",
    "\n",
    "    # 前回のフレーム内容を一旦削除\n",
    "    if len(im) > 0:\n",
    "        im[0].remove()\n",
    "        im.pop()\n",
    "\n",
    "    im.append(plt.scatter(math.cos(rad), math.sin(rad)))\n",
    "\n",
    "fig =  plt.figure()\n",
    "\n",
    "# グラフを中央に表示\n",
    "ax = fig.add_subplot(1,1,1)\n",
    "\n",
    "# グラフの目盛範囲設定\n",
    "ax.set_xlim([-1.5, 1.5])\n",
    "ax.set_ylim([-1.5, 1.5])\n",
    "\n",
    "im = [] # フレーム更新の際に前回のプロットを削除するために用意\n",
    "\n",
    "# アニメーション作成\n",
    "ani = animation.FuncAnimation(fig, _update_plot, fargs = (fig, im), \n",
    "        frames = 360, interval = 1) \n",
    "\n",
    "# 表示\n",
    "plt.show()"
   ]
  },
  {
   "cell_type": "code",
   "execution_count": null,
   "metadata": {
    "collapsed": true
   },
   "outputs": [],
   "source": []
  }
 ],
 "metadata": {
  "kernelspec": {
   "display_name": "Python 3",
   "language": "python",
   "name": "python3"
  },
  "language_info": {
   "codemirror_mode": {
    "name": "ipython",
    "version": 3
   },
   "file_extension": ".py",
   "mimetype": "text/x-python",
   "name": "python",
   "nbconvert_exporter": "python",
   "pygments_lexer": "ipython3",
   "version": "3.5.1"
  }
 },
 "nbformat": 4,
 "nbformat_minor": 0
}
